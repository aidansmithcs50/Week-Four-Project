{
  "metadata": {
    "kernelspec": {
      "name": "python",
      "display_name": "Pyolite",
      "language": "python"
    },
    "language_info": {
      "codemirror_mode": {
        "name": "python",
        "version": 3
      },
      "file_extension": ".py",
      "mimetype": "text/x-python",
      "name": "python",
      "nbconvert_exporter": "python",
      "pygments_lexer": "ipython3",
      "version": "3.8"
    }
  },
  "nbformat_minor": 4,
  "nbformat": 4,
  "cells": [
    {
      "cell_type": "markdown",
      "source": "<center>\n    <img src=\"https://cf-courses-data.s3.us.cloud-object-storage.appdomain.cloud/IBMDeveloperSkillsNetwork-DS0105EN-SkillsNetwork/labs/Module2/images/SN_web_lightmode.png\" width=\"300\" alt=\"cognitiveclass.ai logo\">\n</center>\n",
      "metadata": {}
    },
    {
      "cell_type": "markdown",
      "source": "#### Add your code below following the instructions given in the course\n",
      "metadata": {}
    },
    {
      "cell_type": "markdown",
      "source": "# **This is my week four project!!**",
      "metadata": {}
    },
    {
      "cell_type": "markdown",
      "source": "## _I am a 15 year old from the US who wants to study Data Science in college and then eventually pursue a carreer in it. I hope that this course will help me._",
      "metadata": {}
    },
    {
      "cell_type": "markdown",
      "source": "### These are some of the most popular programming languages that are used in Data Science.\n- Python\n- Java\n- SQL\n- Julia\n- Scala",
      "metadata": {}
    },
    {
      "cell_type": "markdown",
      "source": "### In addition to all of these programming languages, there are also many libraries that Data Scientists frequently\n- TensorFlow\n- NumPy\n- Pandas\n- SciPy\n- Matplotlib",
      "metadata": {}
    },
    {
      "cell_type": "markdown",
      "source": "### There are also lots of tools that a Data Scientist might use, such as\n- Watson Studio\n- R Studio\n- Apache Spark\n- Excel Spreadsheets",
      "metadata": {}
    },
    {
      "cell_type": "markdown",
      "source": "### Inside Jupyter Notebook, you can also run code evaulating math expressions like 1 + 1 or 1 * 8",
      "metadata": {}
    },
    {
      "cell_type": "code",
      "source": "print(1 + 1) \nprint(1 * 8)",
      "metadata": {
        "trusted": true
      },
      "execution_count": 1,
      "outputs": [
        {
          "name": "stdout",
          "text": "2\n8\n",
          "output_type": "stream"
        }
      ]
    },
    {
      "cell_type": "markdown",
      "source": "### Here I can convert minutes to hours:",
      "metadata": {}
    },
    {
      "cell_type": "code",
      "source": "minutes = 120\nhours = 120/60\nprint(hours)",
      "metadata": {
        "trusted": true
      },
      "execution_count": 2,
      "outputs": [
        {
          "name": "stdout",
          "text": "2.0\n",
          "output_type": "stream"
        }
      ]
    },
    {
      "cell_type": "markdown",
      "source": "### My objectives inlcude being able to become proficient in Jupyter Labs and Python",
      "metadata": {}
    },
    {
      "cell_type": "markdown",
      "source": "### By Aidan",
      "metadata": {}
    }
  ]
}